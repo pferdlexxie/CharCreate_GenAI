{
 "cells": [
  {
   "cell_type": "markdown",
   "metadata": {},
   "source": [
    "This script uses Selenium to scrape images from Pinterest based on a specific search query, downloads them, and saves them locally. It navigates through the page, continuously scrolling to load more images and downloads a specified number of images."
   ]
  },
  {
   "cell_type": "code",
   "execution_count": null,
   "metadata": {},
   "outputs": [],
   "source": [
    "from selenium import webdriver\n",
    "from selenium.webdriver.common.by import By\n",
    "from selenium.webdriver.common.keys import Keys\n",
    "from selenium.webdriver.support.ui import WebDriverWait\n",
    "from selenium.webdriver.support import expected_conditions as EC\n",
    "import time\n",
    "import requests\n",
    "import os\n",
    " \n",
    "URL = \"https://ru.pinterest.com/search/pins/?q=harry%20potter%20drawings%20people&rs=typed\"\n",
    "SAVE_FOLDER = \"images\"\n",
    "MAX_IMAGES = 1000\n",
    "\n",
    "os.makedirs(SAVE_FOLDER, exist_ok=True)\n",
    "\n",
    "options = webdriver.ChromeOptions()\n",
    "options.add_argument(\"--headless\")\n",
    "driver = webdriver.Chrome(options=options)\n",
    "driver.get(URL)\n",
    "\n",
    "# Wait until the page is fully loaded\n",
    "wait = WebDriverWait(driver, 10)\n",
    "\n",
    "# Function to scroll the page down\n",
    "def scroll_down():\n",
    "    driver.find_element(By.TAG_NAME, \"body\").send_keys(Keys.PAGE_DOWN)\n",
    "    time.sleep(2)\n",
    "\n",
    "downloaded = 0\n",
    "image_urls = set()\n",
    "\n",
    "while downloaded < MAX_IMAGES:\n",
    "    images = wait.until(EC.presence_of_all_elements_located((By.TAG_NAME, \"img\")))\n",
    "\n",
    "    for img in images:\n",
    "        if downloaded >= MAX_IMAGES:\n",
    "            break\n",
    "\n",
    "        try:\n",
    "            src = img.get_attribute(\"src\")\n",
    "            if src and src not in image_urls:\n",
    "                image_urls.add(src)\n",
    "                response = requests.get(src)\n",
    "                \n",
    "                if response.status_code == 200:\n",
    "                    with open(os.path.join(SAVE_FOLDER, f\"{downloaded + 1}.jpg\"), \"wb\") as f:\n",
    "                        f.write(response.content)\n",
    "                    downloaded += 1\n",
    "                    print(f\"Downloaded: {downloaded} / {MAX_IMAGES}\")\n",
    "        \n",
    "        except Exception as e:\n",
    "            print(f\"Error while downloading: {e}\")\n",
    "\n",
    "    scroll_down()\n",
    "\n",
    "print(\"Finished! Images downloaded.\")\n",
    "driver.quit()\n"
   ]
  }
 ],
 "metadata": {
  "kernelspec": {
   "display_name": "Python 3",
   "language": "python",
   "name": "python3"
  },
  "language_info": {
   "codemirror_mode": {
    "name": "ipython",
    "version": 3
   },
   "file_extension": ".py",
   "mimetype": "text/x-python",
   "name": "python",
   "nbconvert_exporter": "python",
   "pygments_lexer": "ipython3",
   "version": "3.10.2"
  }
 },
 "nbformat": 4,
 "nbformat_minor": 2
}
